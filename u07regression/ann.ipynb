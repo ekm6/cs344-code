{
 "cells": [
  {
   "cell_type": "markdown",
   "source": [
    "# The History of Machine Learning\n",
    "- 1950-1960's: *Cybernetics*\n",
    "- 1980-1990's: *Connectionism*\n",
    "- 2000-2010's: *Deep Learning*\n",
    "\n",
    "# Artificial Neural Networks\n",
    "\n",
    "ANNs are inspired by the neurons in the human brain (see [Neurons](https://en.wikipedia.org/wiki/Neuron)) and are commonly modeled as shown here (cf. Russell & Norvig, Figure 18.19).\n",
    "\n",
    "![alt text](https://cs.calvin.edu/courses/cs/344/kvlinden/07regression/images/an.png)"
   ],
   "metadata": {
    "collapsed": false
   }
  }
 ],
 "metadata": {
  "kernelspec": {
   "display_name": "Python 3",
   "language": "python",
   "name": "python3"
  },
  "language_info": {
   "codemirror_mode": {
    "name": "ipython",
    "version": 3
   },
   "file_extension": ".py",
   "mimetype": "text/x-python",
   "name": "python",
   "nbconvert_exporter": "python",
   "pygments_lexer": "ipython3",
   "version": "3.6.6"
  },
  "pycharm": {
   "stem_cell": {
    "cell_type": "raw",
    "source": [],
    "metadata": {
     "collapsed": false
    }
   }
  }
 },
 "nbformat": 4,
 "nbformat_minor": 1
}