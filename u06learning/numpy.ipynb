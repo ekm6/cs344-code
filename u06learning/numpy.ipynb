{
 "cells": [
  {
   "cell_type": "markdown",
   "metadata": {},
   "source": [
    "# NumPy &amp; Keras\n",
    "\n",
    "Based on *Deep Learning with Python*, F. Chollet, 2018, Sections 2.1-2.2. See: [https://github.com/fchollet/deep-learning-with-python-notebooks](https://github.com/fchollet/deep-learning-with-python-notebooks)\n",
    "\n",
    "[NumPy](http://www.numpy.org/) is a ubiquitous numerical processing library.\n",
    "\n",
    "[MNIST](https://en.wikipedia.org/wiki/MNIST_database) is a classic machine learning dataset.\n",
    "\n",
    "[Keras](https://keras.io/) has convenient tools for dataset management. We'll discussion Keras in greater depth later."
   ]
  },
  {
   "cell_type": "code",
   "execution_count": 1,
   "metadata": {
    "pycharm": {
     "is_executing": false
    }
   },
   "outputs": [],
   "source": [
    "import numpy as np"
   ]
  },
  {
   "cell_type": "markdown",
   "metadata": {},
   "source": [
    "NumPy supports n-dimensional tensors."
   ]
  },
  {
   "cell_type": "code",
   "execution_count": 2,
   "metadata": {
    "pycharm": {
     "is_executing": false
    }
   },
   "outputs": [
    {
     "name": "stdout",
     "text": [
      "scalar tensor (axes: 0; shape: (); type: int32): \n",
      "42\n",
      "\n",
      " 1D tensor (axes: 1; shape: (3,); type: int32): \n",
      "[1 2 3]\n",
      "\n",
      " 2D tensor (axes: 2; shape: (2, 3); type: int32): \n",
      "[[1 2 3]\n",
      " [4 5 6]]\n",
      "\n",
      " 3D tensor (axes: 3; shape: (2, 2, 3); type: int32): \n",
      "[[[ 1  2  3]\n",
      "  [ 4  5  6]]\n",
      "\n",
      " [[ 7  8  9]\n",
      "  [10 11 12]]]\n",
      "\n",
      "\n"
     ],
     "output_type": "stream"
    }
   ],
   "source": [
    "scalar = np.array(42)\n",
    "one_d = np.array([1, 2, 3])\n",
    "two_d = np.array([[1, 2, 3], [4, 5, 6]])\n",
    "three_d = np.array([[[1, 2, 3], [4, 5, 6]], [[7, 8, 9], [10, 11, 12]]])\n",
    "\n",
    "print(\n",
    "    'scalar tensor (axes: {}; shape: {}; type: {}): \\n{}\\n\\n'.format(scalar.ndim, scalar.shape, scalar.dtype, scalar),\n",
    "    '1D tensor (axes: {}; shape: {}; type: {}): \\n{}\\n\\n'.format(one_d.ndim, one_d.shape, scalar.dtype, one_d),\n",
    "    '2D tensor (axes: {}; shape: {}; type: {}): \\n{}\\n\\n'.format(two_d.ndim, two_d.shape, scalar.dtype, two_d),\n",
    "    '3D tensor (axes: {}; shape: {}; type: {}): \\n{}\\n\\n'.format(three_d.ndim, three_d.shape, scalar.dtype, three_d)\n",
    ")"
   ]
  },
  {
   "cell_type": "code",
   "execution_count": 3,
   "metadata": {
    "pycharm": {
     "is_executing": false
    }
   },
   "outputs": [
    {
     "name": "stderr",
     "text": [
      "Using TensorFlow backend.\n"
     ],
     "output_type": "stream"
    }
   ],
   "source": [
    "from keras.datasets import mnist\n",
    "(train_images, train_labels), (test_images, test_labels) = mnist.load_data()"
   ]
  },
  {
   "cell_type": "markdown",
   "metadata": {},
   "source": [
    "The MNIST dataset contains 70K images. Each image is a hand-written digit with 28x28-pixel resolution. "
   ]
  },
  {
   "cell_type": "code",
   "execution_count": 4,
   "metadata": {
    "pycharm": {
     "is_executing": false
    }
   },
   "outputs": [
    {
     "name": "stdout",
     "text": [
      "training images             \n",
      "\tcount: 60000             \n",
      "\tdimensions: 3             \n",
      "\tshape: (60000, 28, 28)             \n",
      "\tdata type: uint8\n",
      "\n",
      " testing images             \n",
      "\tcount: 10000             \n",
      "\tdimensions: 1             \n",
      "\tshape: (10000,)             \n",
      "\tdata type: uint8             \n",
      "\tvalues: [7 2 1 ... 4 5 6]\n",
      "\n"
     ],
     "output_type": "stream"
    }
   ],
   "source": [
    "def print_structures():\n",
    "    print(\n",
    "        'training images \\\n",
    "            \\n\\tcount: {} \\\n",
    "            \\n\\tdimensions: {} \\\n",
    "            \\n\\tshape: {} \\\n",
    "            \\n\\tdata type: {}\\n\\n'.format(\n",
    "                len(train_images), \n",
    "                train_images.ndim, \n",
    "                train_images.shape, \n",
    "                train_images.dtype\n",
    "        ),\n",
    "        'testing images \\\n",
    "            \\n\\tcount: {} \\\n",
    "            \\n\\tdimensions: {} \\\n",
    "            \\n\\tshape: {} \\\n",
    "            \\n\\tdata type: {} \\\n",
    "            \\n\\tvalues: {}\\n'.format(\n",
    "                len(test_labels), \n",
    "                train_labels.ndim, \n",
    "                test_labels.shape, \n",
    "                test_labels.dtype, \n",
    "                test_labels\n",
    "        )\n",
    "    )\n",
    "print_structures()"
   ]
  },
  {
   "cell_type": "markdown",
   "metadata": {},
   "source": [
    "Images look like this."
   ]
  },
  {
   "cell_type": "code",
   "execution_count": 14,
   "metadata": {},
   "outputs": [
    {
     "data": {
      "text/plain": [
       "<matplotlib.image.AxesImage at 0x215bb8638d0>"
      ]
     },
     "execution_count": 14,
     "metadata": {},
     "output_type": "execute_result"
    },
    {
     "data": {
      "image/png": "[encoded data removed]",
      "text/plain": [
       "<Figure size 432x288 with 1 Axes>"
      ]
     },
     "metadata": {
      "needs_background": "light"
     },
     "output_type": "display_data"
    }
   ],
   "source": [
    "import matplotlib.pyplot as plt\n",
    "%matplotlib inline\n",
    "\n",
    "digit_image = train_images[0]\n",
    "plt.imshow(digit_image, cmap=plt.cm.binary)"
   ]
  },
  {
   "cell_type": "markdown",
   "metadata": {},
   "source": [
    "These image representations must be massaged to work with an ML system."
   ]
  },
  {
   "cell_type": "code",
   "execution_count": 15,
   "metadata": {},
   "outputs": [
    {
     "name": "stdout",
     "output_type": "stream",
     "text": [
      "training images             \n",
      "\tcount: 60000             \n",
      "\tdimensions: 2             \n",
      "\tshape: (60000, 784)             \n",
      "\tdata type: float32\n",
      "\n",
      " testing images             \n",
      "\tcount: 10000             \n",
      "\tdimensions: 2             \n",
      "\tshape: (10000, 10)             \n",
      "\tdata type: float32             \n",
      "\tvalues: [[0. 0. 0. ... 1. 0. 0.]\n",
      " [0. 0. 1. ... 0. 0. 0.]\n",
      " [0. 1. 0. ... 0. 0. 0.]\n",
      " ...\n",
      " [0. 0. 0. ... 0. 0. 0.]\n",
      " [0. 0. 0. ... 0. 0. 0.]\n",
      " [0. 0. 0. ... 0. 0. 0.]]\n",
      "\n"
     ]
    }
   ],
   "source": [
    "from keras.utils import to_categorical\n",
    "\n",
    "train_images = train_images.reshape((60000, 28*28))\n",
    "train_images = train_images.astype('float32') / 255\n",
    "\n",
    "test_images = test_images.reshape((10000, 28*28))\n",
    "test_images = test_images.astype('float32') / 255\n",
    "\n",
    "train_labels = to_categorical(train_labels)\n",
    "test_labels = to_categorical(test_labels)\n",
    "\n",
    "print_structures()"
   ]
  }
 ],
 "metadata": {
  "kernelspec": {
   "display_name": "Python 3",
   "language": "python",
   "name": "python3"
  },
  "language_info": {
   "codemirror_mode": {
    "name": "ipython",
    "version": 3
   },
   "file_extension": ".py",
   "mimetype": "text/x-python",
   "name": "python",
   "nbconvert_exporter": "python",
   "pygments_lexer": "ipython3",
   "version": "3.6.5"
  }
 },
 "nbformat": 4,
 "nbformat_minor": 1
}