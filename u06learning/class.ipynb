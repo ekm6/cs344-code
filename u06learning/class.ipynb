{
 "cells": [
  {
   "cell_type": "markdown",
   "metadata": {
    "collapsed": true
   },
   "source": [
    "# Machine Learning\n",
    "\n",
    "*Machine learning* (ML):\n",
    "- builds systems that effectively perform tasks based on models derived from \n",
    "    data rather than on explicit instructions. (Chollet)\n",
    "- improves a system's future performance based on observations about the past \n",
    "    and present. (Russell & Norvig)\n",
    "\n",
    "For each of the following problems, consider whether machine learning (ML) is \n",
    "the right technology. If it is, explain which particular ML *technology* you'd \n",
    "suggest using and how you'd *approach* the problem. If it isn't, explain why not.\n",
    "\n",
    "- Determining whether or not the public supports a political candidate\n",
    "- Identifying customer groups for the purpose of targeted marketing\n",
    "- Playing a game like Go or Starcraft\n",
    "- Calvin's registrar's database\n",
    "- Flying a helicopter"
   ]
  }
 ],
 "metadata": {
  "kernelspec": {
   "display_name": "Python 3",
   "language": "python",
   "name": "python3"
  },
  "language_info": {
   "codemirror_mode": {
    "name": "ipython",
    "version": 3
   },
   "file_extension": ".py",
   "mimetype": "text/x-python",
   "name": "python",
   "nbconvert_exporter": "python",
   "pygments_lexer": "ipython3",
   "version": "3.6.5"
  },
  "pycharm": {
   "stem_cell": {
    "cell_type": "raw",
    "source": [],
    "metadata": {
     "collapsed": false
    }
   }
  }
 },
 "nbformat": 4,
 "nbformat_minor": 1
}